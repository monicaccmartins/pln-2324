{
 "cells": [
  {
   "cell_type": "markdown",
   "metadata": {},
   "source": [
    "Abertura de ficheiros"
   ]
  },
  {
   "cell_type": "code",
   "execution_count": 1,
   "metadata": {},
   "outputs": [],
   "source": [
    "import re\n",
    "from gensim.models import Word2Vec\n",
    "from gensim.utils import tokenize\n",
    "\n",
    "f1 = open(\"Harry_Potter_Camara_Secreta-br.txt\", \"r\", encoding=\"UTF-8\")\n",
    "f2 = open(\"Harry_Potter_e_A_Pedra_Filosofal.txt\", \"r\", encoding=\"UTF-8\")"
   ]
  },
  {
   "cell_type": "markdown",
   "metadata": {},
   "source": [
    "Harry_PotterCamara_Secreta"
   ]
  },
  {
   "cell_type": "code",
   "execution_count": 2,
   "metadata": {},
   "outputs": [],
   "source": [
    "harry_text1 = f1.read()\n",
    "linhas1 = harry_text1.split(\"/n\")\n",
    "\n",
    "tokens=[]\n",
    "for linha in linhas1:\n",
    "    linha = list(tokenize(linha, lower=True))\n",
    "    tokens.append(linha)\n",
    "\n",
    "model1_1 =  Word2Vec(tokens, vector_size = 100, window = 5, sg=1,  min_count = 1, epochs = 20, workers = 3)\n",
    "model1_1.save(\"models/word2vec1_1.model\")\n",
    "\n",
    "model1_2 =  Word2Vec(tokens, vector_size = 300, window = 5, sg=0,  min_count = 1, epochs = 30, workers = 3)\n",
    "model1_2.save(\"models/word2vec1_2.model\")"
   ]
  },
  {
   "cell_type": "code",
   "execution_count": 3,
   "metadata": {},
   "outputs": [
    {
     "name": "stdout",
     "output_type": "stream",
     "text": [
      "Parâmetros do Modelo 1.1:\n",
      "vector_size = 100, window = 5, sg=1,  min_count = 1, epochs = 20, workers = 3\n",
      "\n",
      "Resultados obtidos para o modelo 1.1:\n",
      "Most similar to \"harry\": \n",
      "[('olhando', 0.9837996363639832), ('foi', 0.9823994636535645), ('depressa', 0.980012059211731), ('para', 0.979461669921875), ('então', 0.978892982006073), ('rony', 0.9784257411956787), ('até', 0.9780246019363403), ('se', 0.9778413772583008), ('antes', 0.9778130054473877), ('olhar', 0.9776760935783386)]\n",
      "\n",
      "Does not match between \"harry\", \"rony\", \"coruja\": \n",
      "coruja\n",
      "\n",
      "Does not match between \"minerva\", \"dumbledore\", \"quirrell\": \n",
      "dumbledore\n",
      "\n",
      "Does not match between \"edwiges\", \"rony\", \"coruja\": \n",
      "rony\n",
      "\n",
      "Does not match between \"edwiges\", \"hagrid\", \"dumbledore\": \n",
      "dumbledore\n",
      "\n",
      "\n",
      "Parâmetros do Modelo 1.2:\n",
      "vector_size = 300, window = 5, sg=0,  min_count = 1, epochs = 30, workers = 3\n",
      "\n",
      "Resultados obtidos para o modelo 1.2:\n",
      "Most similar to \"harry\": \n",
      "[('se', 0.999921441078186), ('enquanto', 0.9999141097068787), ('o', 0.9999135136604309), ('para', 0.9999037384986877), ('ele', 0.9999027848243713), ('até', 0.99989914894104), ('lhe', 0.9998990893363953), ('quando', 0.9998918175697327), ('dele', 0.9998860955238342), ('antes', 0.9998860955238342)]\n",
      "\n",
      "Does not match between \"harry\", \"rony\", \"coruja\": \n",
      "coruja\n",
      "\n",
      "Does not match between \"minerva\", \"dumbledore\", \"quirrell\": \n",
      "minerva\n",
      "\n",
      "Does not match between \"edwiges\", \"rony\", \"coruja\": \n",
      "edwiges\n",
      "\n",
      "Does not match between \"edwiges\", \"hagrid\", \"dumbledore\": \n",
      "dumbledore\n"
     ]
    }
   ],
   "source": [
    "print(\"Parâmetros do Modelo 1.1:\")\n",
    "print(\"vector_size = 100, window = 5, sg=1,  min_count = 1, epochs = 20, workers = 3\\n\")\n",
    "print(\"Resultados obtidos para o modelo 1.1:\")\n",
    "print(\"Most similar to \\\"harry\\\": \\n\" + str(model1_1.wv.most_similar(\"harry\")))\n",
    "print(\"\\nDoes not match between \\\"harry\\\", \\\"rony\\\", \\\"coruja\\\": \\n\" + str(model1_1.wv.doesnt_match(['harry', 'rony', 'coruja'])))\n",
    "print(\"\\nDoes not match between \\\"minerva\\\", \\\"dumbledore\\\", \\\"quirrell\\\": \\n\" + str(model1_1.wv.doesnt_match(['minerva', 'dumbledore', 'quirrell'])))\n",
    "print(\"\\nDoes not match between \\\"edwiges\\\", \\\"rony\\\", \\\"coruja\\\": \\n\" + str(model1_1.wv.doesnt_match(['edwiges', 'rony', 'coruja'])))\n",
    "print(\"\\nDoes not match between \\\"edwiges\\\", \\\"hagrid\\\", \\\"dumbledore\\\": \\n\" + str(model1_1.wv.doesnt_match(['edwiges', 'hagrid', 'dumbledore'])))\n",
    "\n",
    "\n",
    "print(\"\\n\\nParâmetros do Modelo 1.2:\")\n",
    "print(\"vector_size = 300, window = 5, sg=0,  min_count = 1, epochs = 30, workers = 3\\n\")\n",
    "print(\"Resultados obtidos para o modelo 1.2:\")\n",
    "print(\"Most similar to \\\"harry\\\": \\n\" + str(model1_2.wv.most_similar(\"harry\")))\n",
    "print(\"\\nDoes not match between \\\"harry\\\", \\\"rony\\\", \\\"coruja\\\": \\n\" + str(model1_2.wv.doesnt_match(['harry', 'rony', 'coruja'])))\n",
    "print(\"\\nDoes not match between \\\"minerva\\\", \\\"dumbledore\\\", \\\"quirrell\\\": \\n\" + str(model1_2.wv.doesnt_match(['minerva', 'dumbledore', 'quirrell'])))\n",
    "print(\"\\nDoes not match between \\\"edwiges\\\", \\\"rony\\\", \\\"coruja\\\": \\n\" + str(model1_2.wv.doesnt_match(['edwiges', 'rony', 'coruja'])))\n",
    "print(\"\\nDoes not match between \\\"edwiges\\\", \\\"hagrid\\\", \\\"dumbledore\\\": \\n\" + str(model1_2.wv.doesnt_match(['edwiges', 'hagrid', 'dumbledore'])))"
   ]
  },
  {
   "cell_type": "markdown",
   "metadata": {},
   "source": [
    "Harry_Potter_e_A_Pedra_Filosofal"
   ]
  },
  {
   "cell_type": "code",
   "execution_count": 4,
   "metadata": {},
   "outputs": [],
   "source": [
    "harry_text2 = f2.read()\n",
    "linhas2 = harry_text2.split(\"/n\")\n",
    "\n",
    "tokens2=[]\n",
    "for linha in linhas2:\n",
    "    linha = list(tokenize(linha, lower=True))\n",
    "    tokens2.append(linha)\n",
    "\n",
    "model2_1 =  Word2Vec(tokens2, vector_size = 100, window = 5, sg=1,  min_count = 1, epochs = 20, workers = 3)\n",
    "model2_1.save(\"models/word2vec2_1.model\")\n",
    "\n",
    "model2_2 =  Word2Vec(tokens2, vector_size = 300, window = 5, sg=0,  min_count = 1, epochs = 30, workers = 3)\n",
    "model2_2.save(\"models/word2vec2_2.model\")"
   ]
  },
  {
   "cell_type": "code",
   "execution_count": 5,
   "metadata": {},
   "outputs": [
    {
     "name": "stdout",
     "output_type": "stream",
     "text": [
      "Parâmetros do Modelo 2.1:\n",
      "vector_size = 100, window = 5, sg=1,  min_count = 1, epochs = 20, workers = 3\n",
      "\n",
      "Resultados obtidos para o modelo 2.1:\n",
      "Most similar to \"harry\": \n",
      "[('pai', 0.9878461956977844), ('depois', 0.9845152497291565), ('lado', 0.9828490018844604), ('outro', 0.9823455214500427), ('repente', 0.9822792410850525), ('hora', 0.9809983968734741), ('envelope', 0.9809069037437439), ('vidro', 0.9807219505310059), ('mãe', 0.9805049896240234), ('deu', 0.9793251156806946)]\n",
      "\n",
      "Does not match between \"harry\", \"rony\", \"coruja\": \n",
      "rony\n",
      "\n",
      "Does not match between \"minerva\", \"dumbledore\", \"quirrell\": \n",
      "quirrell\n",
      "\n",
      "Does not match between \"edwiges\", \"rony\", \"coruja\": \n",
      "coruja\n",
      "\n",
      "Does not match between \"edwiges\", \"hagrid\", \"dumbledore\": \n",
      "edwiges\n",
      "\n",
      "\n",
      "Parâmetros do Modelo 2.2:\n",
      "vector_size = 200, window = 5, sg=0,  min_count = 1, epochs = 30, workers = 3\n",
      "\n",
      "Resultados obtidos para o modelo 2.2:\n",
      "Most similar to \"harry\": \n",
      "[('para', 0.9999449849128723), ('e', 0.99993497133255), ('a', 0.9999217391014099), ('dois', 0.9999206066131592), ('na', 0.9999205470085144), ('do', 0.9999191164970398), ('quando', 0.9999178647994995), ('nas', 0.999915599822998), ('tinha', 0.9999135136604309), ('onde', 0.9999113082885742)]\n",
      "\n",
      "Does not match between \"harry\", \"rony\", \"coruja\": \n",
      "rony\n",
      "\n",
      "Does not match between \"minerva\", \"dumbledore\", \"quirrell\": \n",
      "quirrell\n",
      "\n",
      "Does not match between \"edwiges\", \"rony\", \"coruja\": \n",
      "coruja\n",
      "\n",
      "Does not match between \"edwiges\", \"hagrid\", \"dumbledore\": \n",
      "edwiges\n"
     ]
    }
   ],
   "source": [
    "print(\"Parâmetros do Modelo 2.1:\")\n",
    "print(\"vector_size = 100, window = 5, sg=1,  min_count = 1, epochs = 20, workers = 3\\n\")\n",
    "print(\"Resultados obtidos para o modelo 2.1:\")\n",
    "print(\"Most similar to \\\"harry\\\": \\n\" + str(model2_1.wv.most_similar(\"harry\")))\n",
    "print(\"\\nDoes not match between \\\"harry\\\", \\\"rony\\\", \\\"coruja\\\": \\n\" + str(model2_1.wv.doesnt_match(['harry', 'rony', 'coruja'])))\n",
    "print(\"\\nDoes not match between \\\"minerva\\\", \\\"dumbledore\\\", \\\"quirrell\\\": \\n\" + str(model2_1.wv.doesnt_match(['minerva', 'dumbledore', 'quirrell'])))\n",
    "print(\"\\nDoes not match between \\\"edwiges\\\", \\\"rony\\\", \\\"coruja\\\": \\n\" + str(model2_1.wv.doesnt_match(['edwiges', 'rony', 'coruja'])))\n",
    "print(\"\\nDoes not match between \\\"edwiges\\\", \\\"hagrid\\\", \\\"dumbledore\\\": \\n\" + str(model2_1.wv.doesnt_match(['edwiges', 'hagrid', 'dumbledore'])))\n",
    "\n",
    "\n",
    "print(\"\\n\\nParâmetros do Modelo 2.2:\")\n",
    "print(\"vector_size = 200, window = 5, sg=0,  min_count = 1, epochs = 30, workers = 3\\n\")\n",
    "print(\"Resultados obtidos para o modelo 2.2:\")\n",
    "print(\"Most similar to \\\"harry\\\": \\n\" + str(model2_2.wv.most_similar(\"harry\")))\n",
    "print(\"\\nDoes not match between \\\"harry\\\", \\\"rony\\\", \\\"coruja\\\": \\n\" + str(model2_2.wv.doesnt_match(['harry', 'rony', 'coruja'])))\n",
    "print(\"\\nDoes not match between \\\"minerva\\\", \\\"dumbledore\\\", \\\"quirrell\\\": \\n\" + str(model2_2.wv.doesnt_match(['minerva', 'dumbledore', 'quirrell'])))\n",
    "print(\"\\nDoes not match between \\\"edwiges\\\", \\\"rony\\\", \\\"coruja\\\": \\n\" + str(model2_2.wv.doesnt_match(['edwiges', 'rony', 'coruja'])))\n",
    "print(\"\\nDoes not match between \\\"edwiges\\\", \\\"hagrid\\\", \\\"dumbledore\\\": \\n\" + str(model2_2.wv.doesnt_match(['edwiges', 'hagrid', 'dumbledore'])))"
   ]
  },
  {
   "cell_type": "markdown",
   "metadata": {},
   "source": [
    "Harry_Potter_Camara_Secreta e Harry_Potter_e_A_Pedra_Filosofal"
   ]
  },
  {
   "cell_type": "code",
   "execution_count": 6,
   "metadata": {},
   "outputs": [],
   "source": [
    "tokens3 = []\n",
    "for linha in linhas2:\n",
    "    linha = list(tokenize(linha, lower=True))\n",
    "    tokens3.append(linha)\n",
    "\n",
    "for linha in linhas1:\n",
    "    linha = list(tokenize(linha, lower=True))\n",
    "    tokens3.append(linha)\n",
    "\n",
    "model3_1 =  Word2Vec(tokens3, vector_size = 100, window = 5, sg=1,  min_count = 1, epochs = 20, workers = 3)\n",
    "model3_1.save(\"models/word2vec3_1.model\")\n",
    "\n",
    "model3_2 =  Word2Vec(tokens3, vector_size = 300, window = 5, sg=0,  min_count = 1, epochs = 30, workers = 3)\n",
    "model3_2.save(\"models/word2vec3_2.model\")"
   ]
  },
  {
   "cell_type": "code",
   "execution_count": 7,
   "metadata": {},
   "outputs": [
    {
     "name": "stdout",
     "output_type": "stream",
     "text": [
      "Parâmetros do Modelo 3.1:\n",
      "vector_size = 100, window = 5, sg=1,  min_count = 1, epochs = 20, workers = 3\n",
      "\n",
      "Resultados obtidos para o modelo 3.1:\n",
      "Most similar to \"harry\": \n",
      "[('olhando', 0.9498735070228577), ('vaso', 0.9424283504486084), ('gina', 0.9423956274986267), ('depressa', 0.9410265684127808), ('tirar', 0.9384288787841797), ('mione', 0.9384064078330994), ('olhou', 0.9379234313964844), ('repente', 0.9378711581230164), ('conta', 0.9376915097236633), ('naquele', 0.9372466206550598)]\n",
      "\n",
      "Does not match between \"harry\", \"rony\", \"coruja\": \n",
      "coruja\n",
      "\n",
      "Does not match between \"minerva\", \"dumbledore\", \"quirrell\": \n",
      "quirrell\n",
      "\n",
      "Does not match between \"edwiges\", \"rony\", \"coruja\": \n",
      "rony\n",
      "\n",
      "Does not match between \"edwiges\", \"hagrid\", \"dumbledore\": \n",
      "edwiges\n",
      "\n",
      "\n",
      "Parâmetros do Modelo 3.2:\n",
      "vector_size = 200, window = 5, sg=1,  min_count = 1, epochs = 30, workers = 3\n",
      "\n",
      "Resultados obtidos para o modelo 3.2:\n",
      "Most similar to \"harry\": \n",
      "[('num', 0.9993370771408081), ('logo', 0.999290406703949), ('atravessou', 0.9991558194160461), ('até', 0.9991254806518555), ('olhando', 0.9991218447685242), ('dele', 0.9991099238395691), ('depressa', 0.9990937113761902), ('gnomo', 0.9990814328193665), ('ainda', 0.9990799427032471), ('o', 0.9990354776382446)]\n",
      "\n",
      "Does not match between \"harry\", \"rony\", \"coruja\": \n",
      "coruja\n",
      "\n",
      "Does not match between \"minerva\", \"dumbledore\", \"quirrell\": \n",
      "quirrell\n",
      "\n",
      "Does not match between \"edwiges\", \"rony\", \"coruja\": \n",
      "rony\n",
      "\n",
      "Does not match between \"edwiges\", \"hagrid\", \"dumbledore\": \n",
      "edwiges\n"
     ]
    }
   ],
   "source": [
    "print(\"Parâmetros do Modelo 3.1:\")\n",
    "print(\"vector_size = 100, window = 5, sg=1,  min_count = 1, epochs = 20, workers = 3\\n\")\n",
    "print(\"Resultados obtidos para o modelo 3.1:\")\n",
    "print(\"Most similar to \\\"harry\\\": \\n\" + str(model3_1.wv.most_similar(\"harry\")))\n",
    "print(\"\\nDoes not match between \\\"harry\\\", \\\"rony\\\", \\\"coruja\\\": \\n\" + str(model3_1.wv.doesnt_match(['harry', 'rony', 'coruja'])))\n",
    "print(\"\\nDoes not match between \\\"minerva\\\", \\\"dumbledore\\\", \\\"quirrell\\\": \\n\" + str(model3_1.wv.doesnt_match(['minerva', 'dumbledore', 'quirrell'])))\n",
    "print(\"\\nDoes not match between \\\"edwiges\\\", \\\"rony\\\", \\\"coruja\\\": \\n\" + str(model3_1.wv.doesnt_match(['edwiges', 'rony', 'coruja'])))\n",
    "print(\"\\nDoes not match between \\\"edwiges\\\", \\\"hagrid\\\", \\\"dumbledore\\\": \\n\" + str(model3_1.wv.doesnt_match(['edwiges', 'hagrid', 'dumbledore'])))\n",
    "\n",
    "\n",
    "print(\"\\n\\nParâmetros do Modelo 3.2:\")\n",
    "print(\"vector_size = 200, window = 5, sg=1,  min_count = 1, epochs = 30, workers = 3\\n\")\n",
    "print(\"Resultados obtidos para o modelo 3.2:\")\n",
    "print(\"Most similar to \\\"harry\\\": \\n\" + str(model3_2.wv.most_similar(\"harry\")))\n",
    "print(\"\\nDoes not match between \\\"harry\\\", \\\"rony\\\", \\\"coruja\\\": \\n\" + str(model3_2.wv.doesnt_match(['harry', 'rony', 'coruja'])))\n",
    "print(\"\\nDoes not match between \\\"minerva\\\", \\\"dumbledore\\\", \\\"quirrell\\\": \\n\" + str(model3_2.wv.doesnt_match(['minerva', 'dumbledore', 'quirrell'])))\n",
    "print(\"\\nDoes not match between \\\"edwiges\\\", \\\"rony\\\", \\\"coruja\\\": \\n\" + str(model3_2.wv.doesnt_match(['edwiges', 'rony', 'coruja'])))\n",
    "print(\"\\nDoes not match between \\\"edwiges\\\", \\\"hagrid\\\", \\\"dumbledore\\\": \\n\" + str(model3_2.wv.doesnt_match(['edwiges', 'hagrid', 'dumbledore'])))"
   ]
  },
  {
   "cell_type": "code",
   "execution_count": 8,
   "metadata": {},
   "outputs": [
    {
     "name": "stdout",
     "output_type": "stream",
     "text": [
      "Most similar to \"dobby\": \n",
      "[('doméstico', 0.9970716238021851), ('terá', 0.9951157569885254), ('mau', 0.994939386844635), ('castigar', 0.9947554469108582), ('ligam', 0.9946781992912292), ('disso', 0.9942198395729065), ('sério', 0.9939290881156921), ('voltar', 0.9937708377838135), ('ah', 0.9936530590057373), ('meses', 0.9934167265892029)]\n"
     ]
    }
   ],
   "source": [
    "print(\"Most similar to \\\"dobby\\\": \\n\" + str(model3_2.wv.most_similar(\"dobby\")))"
   ]
  },
  {
   "cell_type": "code",
   "execution_count": 11,
   "metadata": {},
   "outputs": [
    {
     "name": "stdout",
     "output_type": "stream",
     "text": [
      "\n",
      "Does not match between \"harry\", \"dumbledore\", \"voldemort\": \n",
      "voldemort\n",
      "\n",
      "Does not match between \"harry\", \"dumbledore\", \"voldemort\": \n",
      "dumbledore\n",
      "\n",
      "Does not match between \"harry\", \"dumbledore\", \"voldemort\": \n",
      "harry\n",
      "\n",
      "Does not match between \"harry\", \"dumbledore\", \"voldemort\": \n",
      "harry\n",
      "\n",
      "Does not match between \"harry\", \"dumbledore\", \"voldemort\": \n",
      "harry\n",
      "\n",
      "Does not match between \"harry\", \"dumbledore\", \"voldemort\": \n",
      "harry\n"
     ]
    }
   ],
   "source": [
    "print(\"\\nDoes not match between \\\"harry\\\", \\\"dumbledore\\\", \\\"voldemort\\\": \\n\" + str(model1_1.wv.doesnt_match(['harry', 'voldemort', 'dumbledore'])))\n",
    "print(\"\\nDoes not match between \\\"harry\\\", \\\"dumbledore\\\", \\\"voldemort\\\": \\n\" + str(model1_2.wv.doesnt_match(['harry', 'voldemort', 'dumbledore'])))\n",
    "print(\"\\nDoes not match between \\\"harry\\\", \\\"dumbledore\\\", \\\"voldemort\\\": \\n\" + str(model2_1.wv.doesnt_match(['harry', 'voldemort', 'dumbledore'])))\n",
    "print(\"\\nDoes not match between \\\"harry\\\", \\\"dumbledore\\\", \\\"voldemort\\\": \\n\" + str(model2_2.wv.doesnt_match(['harry', 'voldemort', 'dumbledore'])))\n",
    "print(\"\\nDoes not match between \\\"harry\\\", \\\"dumbledore\\\", \\\"voldemort\\\": \\n\" + str(model3_1.wv.doesnt_match(['harry', 'voldemort', 'dumbledore'])))\n",
    "print(\"\\nDoes not match between \\\"harry\\\", \\\"dumbledore\\\", \\\"voldemort\\\": \\n\" + str(model3_2.wv.doesnt_match(['harry', 'voldemort', 'dumbledore'])))"
   ]
  },
  {
   "cell_type": "code",
   "execution_count": 17,
   "metadata": {},
   "outputs": [
    {
     "name": "stdout",
     "output_type": "stream",
     "text": [
      "Similarity between \"harry\", \"voldemort\": \n",
      "0.9944565\n"
     ]
    }
   ],
   "source": [
    "print(\"Similarity between \\\"harry\\\", \\\"voldemort\\\": \\n\" + str(model3_2.wv.similarity('harry', 'voldemort')))"
   ]
  }
 ],
 "metadata": {
  "kernelspec": {
   "display_name": "base",
   "language": "python",
   "name": "python3"
  },
  "language_info": {
   "codemirror_mode": {
    "name": "ipython",
    "version": 3
   },
   "file_extension": ".py",
   "mimetype": "text/x-python",
   "name": "python",
   "nbconvert_exporter": "python",
   "pygments_lexer": "ipython3",
   "version": "3.10.14"
  }
 },
 "nbformat": 4,
 "nbformat_minor": 2
}
